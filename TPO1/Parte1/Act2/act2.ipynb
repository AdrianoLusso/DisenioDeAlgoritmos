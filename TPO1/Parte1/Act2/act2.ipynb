{
 "cells": [
  {
   "cell_type": "code",
   "execution_count": 1,
   "metadata": {},
   "outputs": [
    {
     "data": {
      "text/plain": [
       "'buscar:'"
      ]
     },
     "metadata": {},
     "output_type": "display_data"
    },
    {
     "data": {
      "text/plain": [
       "6"
      ]
     },
     "metadata": {},
     "output_type": "display_data"
    },
    {
     "data": {
      "text/plain": [
       "'set antes de fusionar:'"
      ]
     },
     "metadata": {},
     "output_type": "display_data"
    },
    {
     "data": {
      "text/plain": [
       "[1, 2, 1, 4, 2, 6, 1, 6, 2, 2]"
      ]
     },
     "metadata": {},
     "output_type": "display_data"
    },
    {
     "data": {
      "text/plain": [
       "'set despues de fusionar 2 y 6'"
      ]
     },
     "metadata": {},
     "output_type": "display_data"
    },
    {
     "data": {
      "text/plain": [
       "[1, 2, 1, 4, 2, 2, 1, 2, 2, 2]"
      ]
     },
     "metadata": {},
     "output_type": "display_data"
    }
   ],
   "source": [
    "def min(a, b):\n",
    "     \n",
    "    if a >= b:\n",
    "        return b\n",
    "    else:\n",
    "        return a\n",
    "\n",
    "def max(a, b):  \n",
    "    if a >= b:\n",
    "        return a\n",
    "    else:\n",
    "        return b\n",
    "\n",
    "def buscar(set,x):\n",
    "    return set[x-1]\n",
    "\n",
    "def fusionar(set,a,b):\n",
    "    i = min(a,b)\n",
    "    j = max(a,b)\n",
    "    for k in range(len(set)):\n",
    "        #display(i)\n",
    "        if set[k]==j:\n",
    "            set[k]=i\n",
    "    return set\n",
    "\n",
    "#{1,3,7}{4}{2,5,9,10}{6,8}\n",
    "set= [1,2,1,4,2,6,1,6,2,2]\n",
    "display('buscar:' ,buscar(set,8))\n",
    "display('set antes de fusionar:',set)\n",
    "display('set despues de fusionar 2 y 6',fusionar(set,2,6))\n",
    "\n",
    "#El orden de buscar es constante ya que un arreglo funciona como una random access memory, es decir, podes acceder a sus\n",
    "#posiciones sin necesidad de hacer un recorrido.Se accede directamente a la posicion buscada\n",
    "#Para fusionar, las asignaciones de i y j suman constantes al tiempo algoritmico. El bucle definido realiza n iteraciones,\n",
    "#siendo n la cantidad de elementos de set[], de forma que el orden resultante es lineal."
   ]
  }
 ],
 "metadata": {
  "kernelspec": {
   "display_name": "base",
   "language": "python",
   "name": "python3"
  },
  "language_info": {
   "codemirror_mode": {
    "name": "ipython",
    "version": 3
   },
   "file_extension": ".py",
   "mimetype": "text/x-python",
   "name": "python",
   "nbconvert_exporter": "python",
   "pygments_lexer": "ipython3",
   "version": "3.10.9"
  },
  "orig_nbformat": 4
 },
 "nbformat": 4,
 "nbformat_minor": 2
}
